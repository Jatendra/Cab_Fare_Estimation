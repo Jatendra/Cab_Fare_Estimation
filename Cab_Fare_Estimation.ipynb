{
 "cells": [
  {
   "cell_type": "markdown",
   "metadata": {},
   "source": [
    "# Importing "
   ]
  },
  {
   "cell_type": "code",
   "execution_count": 1,
   "metadata": {
    "collapsed": true
   },
   "outputs": [],
   "source": [
    "# pandas,numpy,warning\n",
    "import numpy as np\n",
    "import pandas as pd\n",
    "import warnings\n",
    "\n",
    "# matplotlib, seaborn,counter\n",
    "import matplotlib.pyplot as plt\n",
    "import seaborn as sns\n",
    "from collections import Counter\n",
    "from datetime import datetime\n",
    "from math import sin, cos, sqrt, atan2, radians\n",
    "\n",
    "# machine learning\n",
    "from sklearn.neighbors import KNeighborsClassifier as KNC\n",
    "from sklearn.neighbors import KNeighborsRegressor as KNR\n",
    "from sklearn.tree import DecisionTreeRegressor\n",
    "from sklearn.linear_model import LogisticRegression,LinearRegression,Lasso\n",
    "from sklearn.ensemble import RandomForestRegressor, AdaBoostRegressor, GradientBoostingRegressor,ExtraTreesRegressor\n",
    "from sklearn.neural_network import MLPRegressor\n",
    "from sklearn.svm import SVR\n",
    "\n",
    "# model selection,sampling,feature selection\n",
    "from sklearn.model_selection import GridSearchCV, cross_val_score, StratifiedKFold, learning_curve,train_test_split\n",
    "from imblearn.under_sampling import RandomUnderSampler as RUS     \n",
    "from imblearn.over_sampling import RandomOverSampler as ROS\n",
    "from imblearn.over_sampling import SMOTE \n",
    "from sklearn.metrics import roc_curve,auc\n",
    "from sklearn.feature_selection import f_classif\n",
    "\n",
    "# Preprocessing,accuracy\n",
    "from sklearn.preprocessing import scale"
   ]
  },
  {
   "cell_type": "code",
   "execution_count": 2,
   "metadata": {
    "collapsed": true
   },
   "outputs": [],
   "source": [
    "warnings.filterwarnings(\"ignore\")"
   ]
  },
  {
   "cell_type": "code",
   "execution_count": 3,
   "metadata": {
    "collapsed": true
   },
   "outputs": [],
   "source": [
    "train=pd.read_csv(\"E:/kaggle_data/Cab_Fare/train.csv\")\n",
    "test=pd.read_csv(\"E:/kaggle_data/Cab_Fare/test.csv\")"
   ]
  },
  {
   "cell_type": "code",
   "execution_count": 4,
   "metadata": {},
   "outputs": [
    {
     "name": "stdout",
     "output_type": "stream",
     "text": [
      "<class 'pandas.core.frame.DataFrame'>\n",
      "RangeIndex: 100000 entries, 0 to 99999\n",
      "Data columns (total 18 columns):\n",
      "TID                   100000 non-null object\n",
      "vendor_id             100000 non-null object\n",
      "new_user              100000 non-null object\n",
      "tolls_amount          100000 non-null float64\n",
      "tip_amount            90007 non-null float64\n",
      "mta_tax               100000 non-null float64\n",
      "pickup_datetime       100000 non-null object\n",
      "dropoff_datetime      100000 non-null object\n",
      "passenger_count       100000 non-null int64\n",
      "pickup_longitude      96966 non-null float64\n",
      "pickup_latitude       97962 non-null float64\n",
      "rate_code             100000 non-null int64\n",
      "store_and_fwd_flag    64649 non-null object\n",
      "dropoff_longitude     99693 non-null float64\n",
      "dropoff_latitude      99522 non-null float64\n",
      "payment_type          100000 non-null object\n",
      "surcharge             94115 non-null float64\n",
      "fare_amount           100000 non-null float64\n",
      "dtypes: float64(9), int64(2), object(7)\n",
      "memory usage: 13.7+ MB\n"
     ]
    }
   ],
   "source": [
    "train.info()"
   ]
  },
  {
   "cell_type": "code",
   "execution_count": 5,
   "metadata": {},
   "outputs": [
    {
     "data": {
      "text/html": [
       "<div>\n",
       "<style>\n",
       "    .dataframe thead tr:only-child th {\n",
       "        text-align: right;\n",
       "    }\n",
       "\n",
       "    .dataframe thead th {\n",
       "        text-align: left;\n",
       "    }\n",
       "\n",
       "    .dataframe tbody tr th {\n",
       "        vertical-align: top;\n",
       "    }\n",
       "</style>\n",
       "<table border=\"1\" class=\"dataframe\">\n",
       "  <thead>\n",
       "    <tr style=\"text-align: right;\">\n",
       "      <th></th>\n",
       "      <th>TID</th>\n",
       "      <th>vendor_id</th>\n",
       "      <th>new_user</th>\n",
       "      <th>tolls_amount</th>\n",
       "      <th>tip_amount</th>\n",
       "      <th>mta_tax</th>\n",
       "      <th>pickup_datetime</th>\n",
       "      <th>dropoff_datetime</th>\n",
       "      <th>passenger_count</th>\n",
       "      <th>pickup_longitude</th>\n",
       "      <th>pickup_latitude</th>\n",
       "      <th>rate_code</th>\n",
       "      <th>store_and_fwd_flag</th>\n",
       "      <th>dropoff_longitude</th>\n",
       "      <th>dropoff_latitude</th>\n",
       "      <th>payment_type</th>\n",
       "      <th>surcharge</th>\n",
       "      <th>fare_amount</th>\n",
       "    </tr>\n",
       "  </thead>\n",
       "  <tbody>\n",
       "    <tr>\n",
       "      <th>0</th>\n",
       "      <td>AIX000345001</td>\n",
       "      <td>DST000401</td>\n",
       "      <td>NO</td>\n",
       "      <td>0.0</td>\n",
       "      <td>1.4</td>\n",
       "      <td>0.5</td>\n",
       "      <td>2015-04-20 04:18:25</td>\n",
       "      <td>2015-04-20 04:24:20</td>\n",
       "      <td>1</td>\n",
       "      <td>-74.003939</td>\n",
       "      <td>40.742894</td>\n",
       "      <td>1</td>\n",
       "      <td>N</td>\n",
       "      <td>-73.993369</td>\n",
       "      <td>40.734247</td>\n",
       "      <td>CRD</td>\n",
       "      <td>0.5</td>\n",
       "      <td>8.40</td>\n",
       "    </tr>\n",
       "    <tr>\n",
       "      <th>1</th>\n",
       "      <td>AIX000345002</td>\n",
       "      <td>DST000401</td>\n",
       "      <td>NO</td>\n",
       "      <td>0.0</td>\n",
       "      <td>1.0</td>\n",
       "      <td>0.5</td>\n",
       "      <td>2015-04-19 18:16:07</td>\n",
       "      <td>2015-04-19 18:22:06</td>\n",
       "      <td>3</td>\n",
       "      <td>-73.973864</td>\n",
       "      <td>40.752194</td>\n",
       "      <td>1</td>\n",
       "      <td>N</td>\n",
       "      <td>-73.958701</td>\n",
       "      <td>40.772533</td>\n",
       "      <td>CRD</td>\n",
       "      <td>0.0</td>\n",
       "      <td>8.50</td>\n",
       "    </tr>\n",
       "    <tr>\n",
       "      <th>2</th>\n",
       "      <td>AIX000345003</td>\n",
       "      <td>DST000401</td>\n",
       "      <td>NO</td>\n",
       "      <td>0.0</td>\n",
       "      <td>0.0</td>\n",
       "      <td>0.5</td>\n",
       "      <td>2015-04-06 08:04:32</td>\n",
       "      <td>2015-04-06 08:10:05</td>\n",
       "      <td>2</td>\n",
       "      <td>-73.954406</td>\n",
       "      <td>40.764420</td>\n",
       "      <td>1</td>\n",
       "      <td>N</td>\n",
       "      <td>-73.970780</td>\n",
       "      <td>40.758350</td>\n",
       "      <td>CSH</td>\n",
       "      <td>0.0</td>\n",
       "      <td>7.00</td>\n",
       "    </tr>\n",
       "    <tr>\n",
       "      <th>3</th>\n",
       "      <td>AIX000345004</td>\n",
       "      <td>DST000532</td>\n",
       "      <td>NO</td>\n",
       "      <td>0.0</td>\n",
       "      <td>1.8</td>\n",
       "      <td>0.5</td>\n",
       "      <td>2015-04-10 09:48:00</td>\n",
       "      <td>2015-04-10 10:00:00</td>\n",
       "      <td>2</td>\n",
       "      <td>-73.962345</td>\n",
       "      <td>40.767215</td>\n",
       "      <td>1</td>\n",
       "      <td>NaN</td>\n",
       "      <td>-73.975512</td>\n",
       "      <td>40.756867</td>\n",
       "      <td>CRD</td>\n",
       "      <td>0.0</td>\n",
       "      <td>11.30</td>\n",
       "    </tr>\n",
       "    <tr>\n",
       "      <th>4</th>\n",
       "      <td>AIX000345005</td>\n",
       "      <td>DST000401</td>\n",
       "      <td>NO</td>\n",
       "      <td>0.0</td>\n",
       "      <td>0.0</td>\n",
       "      <td>0.5</td>\n",
       "      <td>2015-04-15 13:12:48</td>\n",
       "      <td>2015-04-15 13:26:30</td>\n",
       "      <td>1</td>\n",
       "      <td>-74.004657</td>\n",
       "      <td>40.707434</td>\n",
       "      <td>1</td>\n",
       "      <td>N</td>\n",
       "      <td>-73.999369</td>\n",
       "      <td>40.721517</td>\n",
       "      <td>CSH</td>\n",
       "      <td>0.0</td>\n",
       "      <td>10.00</td>\n",
       "    </tr>\n",
       "    <tr>\n",
       "      <th>5</th>\n",
       "      <td>AIX000345006</td>\n",
       "      <td>DST000401</td>\n",
       "      <td>NO</td>\n",
       "      <td>0.0</td>\n",
       "      <td>2.4</td>\n",
       "      <td>0.5</td>\n",
       "      <td>2015-04-23 22:04:11</td>\n",
       "      <td>2015-04-23 22:16:11</td>\n",
       "      <td>1</td>\n",
       "      <td>-73.995571</td>\n",
       "      <td>40.716019</td>\n",
       "      <td>1</td>\n",
       "      <td>N</td>\n",
       "      <td>-73.999968</td>\n",
       "      <td>40.743319</td>\n",
       "      <td>CRD</td>\n",
       "      <td>NaN</td>\n",
       "      <td>14.40</td>\n",
       "    </tr>\n",
       "    <tr>\n",
       "      <th>6</th>\n",
       "      <td>AIX000345007</td>\n",
       "      <td>DST000401</td>\n",
       "      <td>NO</td>\n",
       "      <td>0.0</td>\n",
       "      <td>NaN</td>\n",
       "      <td>0.5</td>\n",
       "      <td>2015-04-18 03:19:36</td>\n",
       "      <td>2015-04-18 03:54:22</td>\n",
       "      <td>1</td>\n",
       "      <td>-74.008049</td>\n",
       "      <td>40.740404</td>\n",
       "      <td>1</td>\n",
       "      <td>N</td>\n",
       "      <td>-73.931014</td>\n",
       "      <td>40.765785</td>\n",
       "      <td>CRD</td>\n",
       "      <td>0.5</td>\n",
       "      <td>24.37</td>\n",
       "    </tr>\n",
       "  </tbody>\n",
       "</table>\n",
       "</div>"
      ],
      "text/plain": [
       "            TID  vendor_id new_user  tolls_amount  tip_amount  mta_tax  \\\n",
       "0  AIX000345001  DST000401       NO           0.0         1.4      0.5   \n",
       "1  AIX000345002  DST000401       NO           0.0         1.0      0.5   \n",
       "2  AIX000345003  DST000401       NO           0.0         0.0      0.5   \n",
       "3  AIX000345004  DST000532       NO           0.0         1.8      0.5   \n",
       "4  AIX000345005  DST000401       NO           0.0         0.0      0.5   \n",
       "5  AIX000345006  DST000401       NO           0.0         2.4      0.5   \n",
       "6  AIX000345007  DST000401       NO           0.0         NaN      0.5   \n",
       "\n",
       "       pickup_datetime     dropoff_datetime  passenger_count  \\\n",
       "0  2015-04-20 04:18:25  2015-04-20 04:24:20                1   \n",
       "1  2015-04-19 18:16:07  2015-04-19 18:22:06                3   \n",
       "2  2015-04-06 08:04:32  2015-04-06 08:10:05                2   \n",
       "3  2015-04-10 09:48:00  2015-04-10 10:00:00                2   \n",
       "4  2015-04-15 13:12:48  2015-04-15 13:26:30                1   \n",
       "5  2015-04-23 22:04:11  2015-04-23 22:16:11                1   \n",
       "6  2015-04-18 03:19:36  2015-04-18 03:54:22                1   \n",
       "\n",
       "   pickup_longitude  pickup_latitude  rate_code store_and_fwd_flag  \\\n",
       "0        -74.003939        40.742894          1                  N   \n",
       "1        -73.973864        40.752194          1                  N   \n",
       "2        -73.954406        40.764420          1                  N   \n",
       "3        -73.962345        40.767215          1                NaN   \n",
       "4        -74.004657        40.707434          1                  N   \n",
       "5        -73.995571        40.716019          1                  N   \n",
       "6        -74.008049        40.740404          1                  N   \n",
       "\n",
       "   dropoff_longitude  dropoff_latitude payment_type  surcharge  fare_amount  \n",
       "0         -73.993369         40.734247          CRD        0.5         8.40  \n",
       "1         -73.958701         40.772533          CRD        0.0         8.50  \n",
       "2         -73.970780         40.758350          CSH        0.0         7.00  \n",
       "3         -73.975512         40.756867          CRD        0.0        11.30  \n",
       "4         -73.999369         40.721517          CSH        0.0        10.00  \n",
       "5         -73.999968         40.743319          CRD        NaN        14.40  \n",
       "6         -73.931014         40.765785          CRD        0.5        24.37  "
      ]
     },
     "execution_count": 5,
     "metadata": {},
     "output_type": "execute_result"
    }
   ],
   "source": [
    "train.head(7)"
   ]
  },
  {
   "cell_type": "code",
   "execution_count": 6,
   "metadata": {},
   "outputs": [
    {
     "data": {
      "text/html": [
       "<div>\n",
       "<style>\n",
       "    .dataframe thead tr:only-child th {\n",
       "        text-align: right;\n",
       "    }\n",
       "\n",
       "    .dataframe thead th {\n",
       "        text-align: left;\n",
       "    }\n",
       "\n",
       "    .dataframe tbody tr th {\n",
       "        vertical-align: top;\n",
       "    }\n",
       "</style>\n",
       "<table border=\"1\" class=\"dataframe\">\n",
       "  <thead>\n",
       "    <tr style=\"text-align: right;\">\n",
       "      <th></th>\n",
       "      <th>tolls_amount</th>\n",
       "      <th>tip_amount</th>\n",
       "      <th>mta_tax</th>\n",
       "      <th>passenger_count</th>\n",
       "      <th>pickup_longitude</th>\n",
       "      <th>pickup_latitude</th>\n",
       "      <th>rate_code</th>\n",
       "      <th>dropoff_longitude</th>\n",
       "      <th>dropoff_latitude</th>\n",
       "      <th>surcharge</th>\n",
       "      <th>fare_amount</th>\n",
       "    </tr>\n",
       "  </thead>\n",
       "  <tbody>\n",
       "    <tr>\n",
       "      <th>count</th>\n",
       "      <td>100000.000000</td>\n",
       "      <td>90007.000000</td>\n",
       "      <td>100000.000000</td>\n",
       "      <td>100000.000000</td>\n",
       "      <td>96966.000000</td>\n",
       "      <td>97962.000000</td>\n",
       "      <td>100000.000000</td>\n",
       "      <td>99693.000000</td>\n",
       "      <td>99522.000000</td>\n",
       "      <td>94115.000000</td>\n",
       "      <td>100000.000000</td>\n",
       "    </tr>\n",
       "    <tr>\n",
       "      <th>mean</th>\n",
       "      <td>0.262607</td>\n",
       "      <td>1.434922</td>\n",
       "      <td>0.498175</td>\n",
       "      <td>1.574660</td>\n",
       "      <td>-72.427421</td>\n",
       "      <td>39.899057</td>\n",
       "      <td>1.032010</td>\n",
       "      <td>-72.346081</td>\n",
       "      <td>39.856122</td>\n",
       "      <td>0.326515</td>\n",
       "      <td>14.894852</td>\n",
       "    </tr>\n",
       "    <tr>\n",
       "      <th>std</th>\n",
       "      <td>1.244037</td>\n",
       "      <td>2.248553</td>\n",
       "      <td>0.030153</td>\n",
       "      <td>1.211702</td>\n",
       "      <td>10.588448</td>\n",
       "      <td>5.830341</td>\n",
       "      <td>0.259588</td>\n",
       "      <td>10.852702</td>\n",
       "      <td>5.974384</td>\n",
       "      <td>0.368323</td>\n",
       "      <td>12.105016</td>\n",
       "    </tr>\n",
       "    <tr>\n",
       "      <th>min</th>\n",
       "      <td>0.000000</td>\n",
       "      <td>0.000000</td>\n",
       "      <td>0.000000</td>\n",
       "      <td>0.000000</td>\n",
       "      <td>-80.372524</td>\n",
       "      <td>0.000000</td>\n",
       "      <td>0.000000</td>\n",
       "      <td>-74.773668</td>\n",
       "      <td>0.000000</td>\n",
       "      <td>0.000000</td>\n",
       "      <td>3.000000</td>\n",
       "    </tr>\n",
       "    <tr>\n",
       "      <th>25%</th>\n",
       "      <td>0.000000</td>\n",
       "      <td>0.000000</td>\n",
       "      <td>0.500000</td>\n",
       "      <td>1.000000</td>\n",
       "      <td>-73.992012</td>\n",
       "      <td>40.735131</td>\n",
       "      <td>1.000000</td>\n",
       "      <td>-73.991302</td>\n",
       "      <td>40.733917</td>\n",
       "      <td>0.000000</td>\n",
       "      <td>8.000000</td>\n",
       "    </tr>\n",
       "    <tr>\n",
       "      <th>50%</th>\n",
       "      <td>0.000000</td>\n",
       "      <td>1.000000</td>\n",
       "      <td>0.500000</td>\n",
       "      <td>1.000000</td>\n",
       "      <td>-73.981593</td>\n",
       "      <td>40.753084</td>\n",
       "      <td>1.000000</td>\n",
       "      <td>-73.979660</td>\n",
       "      <td>40.753558</td>\n",
       "      <td>0.000000</td>\n",
       "      <td>11.300000</td>\n",
       "    </tr>\n",
       "    <tr>\n",
       "      <th>75%</th>\n",
       "      <td>0.000000</td>\n",
       "      <td>2.000000</td>\n",
       "      <td>0.500000</td>\n",
       "      <td>2.000000</td>\n",
       "      <td>-73.966632</td>\n",
       "      <td>40.767304</td>\n",
       "      <td>1.000000</td>\n",
       "      <td>-73.962507</td>\n",
       "      <td>40.768435</td>\n",
       "      <td>0.500000</td>\n",
       "      <td>16.700000</td>\n",
       "    </tr>\n",
       "    <tr>\n",
       "      <th>max</th>\n",
       "      <td>20.000000</td>\n",
       "      <td>100.110000</td>\n",
       "      <td>0.500000</td>\n",
       "      <td>6.000000</td>\n",
       "      <td>0.000000</td>\n",
       "      <td>42.906881</td>\n",
       "      <td>6.000000</td>\n",
       "      <td>0.000000</td>\n",
       "      <td>42.726397</td>\n",
       "      <td>2.500000</td>\n",
       "      <td>284.400000</td>\n",
       "    </tr>\n",
       "  </tbody>\n",
       "</table>\n",
       "</div>"
      ],
      "text/plain": [
       "        tolls_amount    tip_amount        mta_tax  passenger_count  \\\n",
       "count  100000.000000  90007.000000  100000.000000    100000.000000   \n",
       "mean        0.262607      1.434922       0.498175         1.574660   \n",
       "std         1.244037      2.248553       0.030153         1.211702   \n",
       "min         0.000000      0.000000       0.000000         0.000000   \n",
       "25%         0.000000      0.000000       0.500000         1.000000   \n",
       "50%         0.000000      1.000000       0.500000         1.000000   \n",
       "75%         0.000000      2.000000       0.500000         2.000000   \n",
       "max        20.000000    100.110000       0.500000         6.000000   \n",
       "\n",
       "       pickup_longitude  pickup_latitude      rate_code  dropoff_longitude  \\\n",
       "count      96966.000000     97962.000000  100000.000000       99693.000000   \n",
       "mean         -72.427421        39.899057       1.032010         -72.346081   \n",
       "std           10.588448         5.830341       0.259588          10.852702   \n",
       "min          -80.372524         0.000000       0.000000         -74.773668   \n",
       "25%          -73.992012        40.735131       1.000000         -73.991302   \n",
       "50%          -73.981593        40.753084       1.000000         -73.979660   \n",
       "75%          -73.966632        40.767304       1.000000         -73.962507   \n",
       "max            0.000000        42.906881       6.000000           0.000000   \n",
       "\n",
       "       dropoff_latitude     surcharge    fare_amount  \n",
       "count      99522.000000  94115.000000  100000.000000  \n",
       "mean          39.856122      0.326515      14.894852  \n",
       "std            5.974384      0.368323      12.105016  \n",
       "min            0.000000      0.000000       3.000000  \n",
       "25%           40.733917      0.000000       8.000000  \n",
       "50%           40.753558      0.000000      11.300000  \n",
       "75%           40.768435      0.500000      16.700000  \n",
       "max           42.726397      2.500000     284.400000  "
      ]
     },
     "execution_count": 6,
     "metadata": {},
     "output_type": "execute_result"
    }
   ],
   "source": [
    "train.describe()"
   ]
  },
  {
   "cell_type": "code",
   "execution_count": 7,
   "metadata": {
    "collapsed": true
   },
   "outputs": [],
   "source": [
    "test.loc[test.store_and_fwd_flag==' ','store_and_fwd_flag']=np.nan"
   ]
  },
  {
   "cell_type": "code",
   "execution_count": 8,
   "metadata": {
    "collapsed": true
   },
   "outputs": [],
   "source": [
    "y=train[\"fare_amount\"]\n",
    "del train[\"fare_amount\"]"
   ]
  },
  {
   "cell_type": "code",
   "execution_count": 9,
   "metadata": {
    "collapsed": true
   },
   "outputs": [],
   "source": [
    "# Merge train & test data\n",
    "full=pd.concat([train,test])\n",
    "full.index=range(200000)"
   ]
  },
  {
   "cell_type": "code",
   "execution_count": 10,
   "metadata": {
    "collapsed": true
   },
   "outputs": [],
   "source": [
    "del full['TID']"
   ]
  },
  {
   "cell_type": "markdown",
   "metadata": {},
   "source": [
    "# Exploratory Data Analysis"
   ]
  },
  {
   "cell_type": "code",
   "execution_count": 11,
   "metadata": {},
   "outputs": [
    {
     "data": {
      "text/html": [
       "<div>\n",
       "<style>\n",
       "    .dataframe thead tr:only-child th {\n",
       "        text-align: right;\n",
       "    }\n",
       "\n",
       "    .dataframe thead th {\n",
       "        text-align: left;\n",
       "    }\n",
       "\n",
       "    .dataframe tbody tr th {\n",
       "        vertical-align: top;\n",
       "    }\n",
       "</style>\n",
       "<table border=\"1\" class=\"dataframe\">\n",
       "  <thead>\n",
       "    <tr style=\"text-align: right;\">\n",
       "      <th></th>\n",
       "      <th>Total</th>\n",
       "      <th>Percent</th>\n",
       "    </tr>\n",
       "  </thead>\n",
       "  <tbody>\n",
       "    <tr>\n",
       "      <th>store_and_fwd_flag</th>\n",
       "      <td>35351</td>\n",
       "      <td>35.351</td>\n",
       "    </tr>\n",
       "    <tr>\n",
       "      <th>tip_amount</th>\n",
       "      <td>9993</td>\n",
       "      <td>9.993</td>\n",
       "    </tr>\n",
       "    <tr>\n",
       "      <th>surcharge</th>\n",
       "      <td>5885</td>\n",
       "      <td>5.885</td>\n",
       "    </tr>\n",
       "    <tr>\n",
       "      <th>pickup_longitude</th>\n",
       "      <td>3034</td>\n",
       "      <td>3.034</td>\n",
       "    </tr>\n",
       "    <tr>\n",
       "      <th>pickup_latitude</th>\n",
       "      <td>2038</td>\n",
       "      <td>2.038</td>\n",
       "    </tr>\n",
       "    <tr>\n",
       "      <th>dropoff_latitude</th>\n",
       "      <td>478</td>\n",
       "      <td>0.478</td>\n",
       "    </tr>\n",
       "    <tr>\n",
       "      <th>dropoff_longitude</th>\n",
       "      <td>307</td>\n",
       "      <td>0.307</td>\n",
       "    </tr>\n",
       "    <tr>\n",
       "      <th>mta_tax</th>\n",
       "      <td>0</td>\n",
       "      <td>0.000</td>\n",
       "    </tr>\n",
       "    <tr>\n",
       "      <th>vendor_id</th>\n",
       "      <td>0</td>\n",
       "      <td>0.000</td>\n",
       "    </tr>\n",
       "    <tr>\n",
       "      <th>new_user</th>\n",
       "      <td>0</td>\n",
       "      <td>0.000</td>\n",
       "    </tr>\n",
       "    <tr>\n",
       "      <th>tolls_amount</th>\n",
       "      <td>0</td>\n",
       "      <td>0.000</td>\n",
       "    </tr>\n",
       "    <tr>\n",
       "      <th>passenger_count</th>\n",
       "      <td>0</td>\n",
       "      <td>0.000</td>\n",
       "    </tr>\n",
       "    <tr>\n",
       "      <th>pickup_datetime</th>\n",
       "      <td>0</td>\n",
       "      <td>0.000</td>\n",
       "    </tr>\n",
       "    <tr>\n",
       "      <th>dropoff_datetime</th>\n",
       "      <td>0</td>\n",
       "      <td>0.000</td>\n",
       "    </tr>\n",
       "    <tr>\n",
       "      <th>payment_type</th>\n",
       "      <td>0</td>\n",
       "      <td>0.000</td>\n",
       "    </tr>\n",
       "    <tr>\n",
       "      <th>rate_code</th>\n",
       "      <td>0</td>\n",
       "      <td>0.000</td>\n",
       "    </tr>\n",
       "    <tr>\n",
       "      <th>TID</th>\n",
       "      <td>0</td>\n",
       "      <td>0.000</td>\n",
       "    </tr>\n",
       "  </tbody>\n",
       "</table>\n",
       "</div>"
      ],
      "text/plain": [
       "                    Total  Percent\n",
       "store_and_fwd_flag  35351   35.351\n",
       "tip_amount           9993    9.993\n",
       "surcharge            5885    5.885\n",
       "pickup_longitude     3034    3.034\n",
       "pickup_latitude      2038    2.038\n",
       "dropoff_latitude      478    0.478\n",
       "dropoff_longitude     307    0.307\n",
       "mta_tax                 0    0.000\n",
       "vendor_id               0    0.000\n",
       "new_user                0    0.000\n",
       "tolls_amount            0    0.000\n",
       "passenger_count         0    0.000\n",
       "pickup_datetime         0    0.000\n",
       "dropoff_datetime        0    0.000\n",
       "payment_type            0    0.000\n",
       "rate_code               0    0.000\n",
       "TID                     0    0.000"
      ]
     },
     "execution_count": 11,
     "metadata": {},
     "output_type": "execute_result"
    }
   ],
   "source": [
    "# null value prediction\n",
    "\n",
    "def null_predict(data):\n",
    "    total=data.isnull().sum().sort_values(ascending=False)    \n",
    "    percentage=((data.isnull().sum()*100)/data.isnull().count()).sort_values(ascending=False)\n",
    "    missing=pd.concat([total,percentage],axis=1,keys=['Total','Percent'])\n",
    "    return missing\n",
    "\n",
    "    \n",
    "null_predict(train)"
   ]
  },
  {
   "cell_type": "markdown",
   "metadata": {},
   "source": [
    "# Visualisation"
   ]
  },
  {
   "cell_type": "code",
   "execution_count": 12,
   "metadata": {
    "collapsed": true
   },
   "outputs": [],
   "source": [
    "temp=pd.concat([train,y],axis=1)"
   ]
  },
  {
   "cell_type": "code",
   "execution_count": 13,
   "metadata": {},
   "outputs": [
    {
     "data": {
      "image/png": "[encoded data removed]",
      "text/plain": [
       "<matplotlib.figure.Figure at 0x5d89d30>"
      ]
     },
     "metadata": {},
     "output_type": "display_data"
    }
   ],
   "source": [
    "sns.barplot(x='vendor_id',y='fare_amount',data=temp)\n",
    "plt.show()"
   ]
  },
  {
   "cell_type": "code",
   "execution_count": 14,
   "metadata": {},
   "outputs": [
    {
     "data": {
      "image/png": "[encoded data removed]",
      "text/plain": [
       "<matplotlib.figure.Figure at 0x115e81d0>"
      ]
     },
     "metadata": {},
     "output_type": "display_data"
    }
   ],
   "source": [
    "sns.barplot(x='store_and_fwd_flag',y='fare_amount',data=temp)\n",
    "plt.show()"
   ]
  },
  {
   "cell_type": "code",
   "execution_count": 15,
   "metadata": {},
   "outputs": [
    {
     "data": {
      "image/png": "[encoded data removed]",
      "text/plain": [
       "<matplotlib.figure.Figure at 0x1410a518>"
      ]
     },
     "metadata": {},
     "output_type": "display_data"
    }
   ],
   "source": [
    "sns.barplot(x='payment_type',y='fare_amount',data=temp)\n",
    "plt.show()"
   ]
  },
  {
   "cell_type": "code",
   "execution_count": 16,
   "metadata": {},
   "outputs": [
    {
     "data": {
      "image/png": "[encoded data removed]",
      "text/plain": [
       "<matplotlib.figure.Figure at 0x11201518>"
      ]
     },
     "metadata": {},
     "output_type": "display_data"
    }
   ],
   "source": [
    "sns.distplot(temp['tolls_amount'])\n",
    "plt.show()"
   ]
  },
  {
   "cell_type": "code",
   "execution_count": 17,
   "metadata": {},
   "outputs": [
    {
     "data": {
      "image/png": "[encoded data removed]",
      "text/plain": [
       "<matplotlib.figure.Figure at 0x11df62b0>"
      ]
     },
     "metadata": {},
     "output_type": "display_data"
    }
   ],
   "source": [
    "temp.groupby('tolls_amount').fare_amount.mean().plot(kind='line')\n",
    "plt.ylabel(\"Mean_Fare\")\n",
    "plt.show()"
   ]
  },
  {
   "cell_type": "code",
   "execution_count": 18,
   "metadata": {},
   "outputs": [
    {
     "data": {
      "image/png": "[encoded data removed]",
      "text/plain": [
       "<matplotlib.figure.Figure at 0x12cf59b0>"
      ]
     },
     "metadata": {},
     "output_type": "display_data"
    }
   ],
   "source": [
    "plt.scatter(x='tolls_amount',y='fare_amount',data=temp)\n",
    "plt.xlabel(\"tolls_amount\")\n",
    "plt.ylabel(\"fare_amount\")\n",
    "plt.show()"
   ]
  },
  {
   "cell_type": "code",
   "execution_count": 19,
   "metadata": {},
   "outputs": [
    {
     "data": {
      "image/png": "[encoded data removed]",
      "text/plain": [
       "<matplotlib.figure.Figure at 0x10d69c88>"
      ]
     },
     "metadata": {},
     "output_type": "display_data"
    }
   ],
   "source": [
    "sns.distplot(temp['mta_tax'])\n",
    "plt.show()"
   ]
  },
  {
   "cell_type": "code",
   "execution_count": 20,
   "metadata": {},
   "outputs": [
    {
     "data": {
      "image/png": "[encoded data removed]",
      "text/plain": [
       "<matplotlib.figure.Figure at 0x12d0eba8>"
      ]
     },
     "metadata": {},
     "output_type": "display_data"
    }
   ],
   "source": [
    "sns.barplot(x='mta_tax',y='fare_amount',data=temp)\n",
    "plt.show()"
   ]
  },
  {
   "cell_type": "code",
   "execution_count": 21,
   "metadata": {},
   "outputs": [
    {
     "data": {
      "image/png": "[encoded data removed]",
      "text/plain": [
       "<matplotlib.figure.Figure at 0x14987240>"
      ]
     },
     "metadata": {},
     "output_type": "display_data"
    }
   ],
   "source": [
    "sns.distplot(temp['passenger_count'])\n",
    "plt.show()"
   ]
  },
  {
   "cell_type": "code",
   "execution_count": 22,
   "metadata": {},
   "outputs": [
    {
     "data": {
      "image/png": "[encoded data removed]",
      "text/plain": [
       "<matplotlib.figure.Figure at 0x14a4d400>"
      ]
     },
     "metadata": {},
     "output_type": "display_data"
    }
   ],
   "source": [
    "sns.barplot(x='passenger_count',y='fare_amount',data=temp)\n",
    "plt.show()"
   ]
  },
  {
   "cell_type": "code",
   "execution_count": 23,
   "metadata": {},
   "outputs": [
    {
     "data": {
      "image/png": "[encoded data removed]",
      "text/plain": [
       "<matplotlib.figure.Figure at 0x14fa2cc0>"
      ]
     },
     "metadata": {},
     "output_type": "display_data"
    }
   ],
   "source": [
    "sns.distplot(temp['rate_code'])\n",
    "plt.show()"
   ]
  },
  {
   "cell_type": "code",
   "execution_count": 24,
   "metadata": {},
   "outputs": [
    {
     "data": {
      "image/png": "[encoded data removed]",
      "text/plain": [
       "<matplotlib.figure.Figure at 0x14fb7908>"
      ]
     },
     "metadata": {},
     "output_type": "display_data"
    }
   ],
   "source": [
    "sns.barplot(x='rate_code',y='fare_amount',data=temp)\n",
    "plt.show()"
   ]
  },
  {
   "cell_type": "code",
   "execution_count": 25,
   "metadata": {},
   "outputs": [
    {
     "data": {
      "image/png": "[encoded data removed]",
      "text/plain": [
       "<matplotlib.figure.Figure at 0x14fb79e8>"
      ]
     },
     "metadata": {},
     "output_type": "display_data"
    }
   ],
   "source": [
    "sns.barplot(x='surcharge',y='fare_amount',data=temp)\n",
    "plt.show()"
   ]
  },
  {
   "cell_type": "code",
   "execution_count": 26,
   "metadata": {},
   "outputs": [
    {
     "data": {
      "image/png": "[encoded data removed]",
      "text/plain": [
       "<matplotlib.figure.Figure at 0x149b4208>"
      ]
     },
     "metadata": {},
     "output_type": "display_data"
    }
   ],
   "source": [
    "plt.scatter(x='tip_amount',y='fare_amount',data=temp)\n",
    "plt.xlabel(\"tip_amount\")\n",
    "plt.ylabel(\"fare_amount\")\n",
    "plt.show()"
   ]
  },
  {
   "cell_type": "markdown",
   "metadata": {},
   "source": [
    "# Imputation"
   ]
  },
  {
   "cell_type": "code",
   "execution_count": 27,
   "metadata": {
    "collapsed": true
   },
   "outputs": [],
   "source": [
    "# imputing store_and_fwd_flag\n",
    "\n",
    "a=full.store_and_fwd_flag.value_counts().index.tolist()"
   ]
  },
  {
   "cell_type": "code",
   "execution_count": 28,
   "metadata": {},
   "outputs": [
    {
     "data": {
      "text/plain": [
       "N      126490\n",
       "NaN     71043\n",
       "Y        2467\n",
       "Name: store_and_fwd_flag, dtype: int64"
      ]
     },
     "execution_count": 28,
     "metadata": {},
     "output_type": "execute_result"
    }
   ],
   "source": [
    "full.store_and_fwd_flag.value_counts(dropna=False)"
   ]
  },
  {
   "cell_type": "code",
   "execution_count": 29,
   "metadata": {
    "collapsed": true
   },
   "outputs": [],
   "source": [
    "full.loc[full.store_and_fwd_flag.isnull(),'store_and_fwd_flag']='Missing'"
   ]
  },
  {
   "cell_type": "code",
   "execution_count": 30,
   "metadata": {},
   "outputs": [
    {
     "data": {
      "text/plain": [
       "N          126490\n",
       "Missing     71043\n",
       "Y            2467\n",
       "Name: store_and_fwd_flag, dtype: int64"
      ]
     },
     "execution_count": 30,
     "metadata": {},
     "output_type": "execute_result"
    }
   ],
   "source": [
    "full.store_and_fwd_flag.value_counts(dropna=False)"
   ]
  },
  {
   "cell_type": "code",
   "execution_count": 31,
   "metadata": {
    "collapsed": true
   },
   "outputs": [],
   "source": [
    "# imputing surcharge\n",
    "\n",
    "train=full.loc[full.surcharge.notnull(),['rate_code']]\n",
    "test=full.loc[full.surcharge.isnull(),['rate_code']]\n",
    "yr=full.loc[full.surcharge.notnull(),'surcharge']\n",
    "\n",
    "train=pd.get_dummies(train)\n",
    "test=pd.get_dummies(test)"
   ]
  },
  {
   "cell_type": "code",
   "execution_count": 32,
   "metadata": {
    "collapsed": true
   },
   "outputs": [],
   "source": [
    "model=KNR()\n",
    "model.fit(train,yr)\n",
    "full.loc[full.surcharge.isnull(),'surcharge']=model.predict(test)"
   ]
  },
  {
   "cell_type": "code",
   "execution_count": 33,
   "metadata": {},
   "outputs": [
    {
     "data": {
      "text/plain": [
       " 0.0    96694\n",
       " 0.5    64217\n",
       " 1.0    27483\n",
       " 0.4    11552\n",
       " 0.1       25\n",
       "-0.5       16\n",
       "-1.0        8\n",
       " 1.5        2\n",
       " 0.3        1\n",
       " 2.5        1\n",
       " 2.0        1\n",
       "Name: surcharge, dtype: int64"
      ]
     },
     "execution_count": 33,
     "metadata": {},
     "output_type": "execute_result"
    }
   ],
   "source": [
    "full.surcharge.value_counts(dropna=False)"
   ]
  },
  {
   "cell_type": "code",
   "execution_count": 34,
   "metadata": {
    "collapsed": true
   },
   "outputs": [],
   "source": [
    "full.loc[full.surcharge==0.4,'surcharge']=0.5\n",
    "full.loc[full.surcharge==0.1,'surcharge']=0.0\n",
    "b=[0.0,0.5,1.0]\n",
    "full.loc[full['surcharge'].isin([-0.5,-1.0,1.5,0.3,2.5,2.0]),'surcharge']=np.random.choice(b,29)        "
   ]
  },
  {
   "cell_type": "code",
   "execution_count": 35,
   "metadata": {},
   "outputs": [
    {
     "data": {
      "text/plain": [
       "0.0    96731\n",
       "0.5    75777\n",
       "1.0    27492\n",
       "Name: surcharge, dtype: int64"
      ]
     },
     "execution_count": 35,
     "metadata": {},
     "output_type": "execute_result"
    }
   ],
   "source": [
    "full.surcharge.value_counts(dropna=False)"
   ]
  },
  {
   "cell_type": "code",
   "execution_count": 36,
   "metadata": {
    "collapsed": true
   },
   "outputs": [],
   "source": [
    "c=full.dropoff_longitude.value_counts().index.tolist()[2:]"
   ]
  },
  {
   "cell_type": "code",
   "execution_count": 37,
   "metadata": {
    "collapsed": true
   },
   "outputs": [],
   "source": [
    "full.loc[(full['dropoff_longitude'].isnull())|(full['dropoff_longitude']==0.0)|(full['dropoff_longitude']==0.5),'dropoff_longitude']=np.random.choice(c,4371)"
   ]
  },
  {
   "cell_type": "code",
   "execution_count": 38,
   "metadata": {},
   "outputs": [
    {
     "data": {
      "text/plain": [
       "False"
      ]
     },
     "execution_count": 38,
     "metadata": {},
     "output_type": "execute_result"
    }
   ],
   "source": [
    "full.dropoff_longitude.isnull().any()"
   ]
  },
  {
   "cell_type": "code",
   "execution_count": 39,
   "metadata": {
    "collapsed": true
   },
   "outputs": [],
   "source": [
    "d=full.pickup_longitude.value_counts().index.tolist()[2:]"
   ]
  },
  {
   "cell_type": "code",
   "execution_count": 40,
   "metadata": {
    "collapsed": true
   },
   "outputs": [],
   "source": [
    "full.loc[(full['pickup_longitude'].isnull())|(full['pickup_longitude']==0.0)|(full['pickup_longitude']==0.5),'pickup_longitude']=np.random.choice(d,9594)"
   ]
  },
  {
   "cell_type": "code",
   "execution_count": 41,
   "metadata": {},
   "outputs": [
    {
     "data": {
      "text/plain": [
       "False"
      ]
     },
     "execution_count": 41,
     "metadata": {},
     "output_type": "execute_result"
    }
   ],
   "source": [
    "full.pickup_longitude.isnull().any()"
   ]
  },
  {
   "cell_type": "code",
   "execution_count": 42,
   "metadata": {
    "collapsed": true
   },
   "outputs": [],
   "source": [
    "e=full.pickup_latitude.value_counts().index.tolist()[2:]"
   ]
  },
  {
   "cell_type": "code",
   "execution_count": 43,
   "metadata": {
    "collapsed": true
   },
   "outputs": [],
   "source": [
    "full.loc[(full['pickup_latitude'].isnull())|(full['pickup_latitude']==0.0)|(full['pickup_latitude']==0.5),'pickup_latitude']=np.random.choice(e,7652)"
   ]
  },
  {
   "cell_type": "code",
   "execution_count": 44,
   "metadata": {},
   "outputs": [
    {
     "data": {
      "text/plain": [
       "False"
      ]
     },
     "execution_count": 44,
     "metadata": {},
     "output_type": "execute_result"
    }
   ],
   "source": [
    "full.pickup_latitude.isnull().any()"
   ]
  },
  {
   "cell_type": "code",
   "execution_count": 45,
   "metadata": {
    "collapsed": true
   },
   "outputs": [],
   "source": [
    "f=full.dropoff_latitude.value_counts().index.tolist()[2:]"
   ]
  },
  {
   "cell_type": "code",
   "execution_count": 46,
   "metadata": {
    "collapsed": true
   },
   "outputs": [],
   "source": [
    "full.loc[(full['dropoff_latitude'].isnull())|(full['dropoff_latitude']==0.0)|(full['dropoff_latitude']==0.5),'dropoff_latitude']=np.random.choice(f,4701)"
   ]
  },
  {
   "cell_type": "code",
   "execution_count": 47,
   "metadata": {},
   "outputs": [
    {
     "data": {
      "text/plain": [
       "False"
      ]
     },
     "execution_count": 47,
     "metadata": {},
     "output_type": "execute_result"
    }
   ],
   "source": [
    "full.dropoff_latitude.isnull().any()"
   ]
  },
  {
   "cell_type": "code",
   "execution_count": 48,
   "metadata": {
    "collapsed": true
   },
   "outputs": [],
   "source": [
    "del full['new_user']"
   ]
  },
  {
   "cell_type": "markdown",
   "metadata": {},
   "source": [
    "# Feature Enginnering"
   ]
  },
  {
   "cell_type": "code",
   "execution_count": 49,
   "metadata": {},
   "outputs": [
    {
     "data": {
      "text/plain": [
       "0    2015-04-20 04:18:25\n",
       "1    2015-04-19 18:16:07\n",
       "2    2015-04-06 08:04:32\n",
       "3    2015-04-10 09:48:00\n",
       "4    2015-04-15 13:12:48\n",
       "Name: pickup_datetime, dtype: object"
      ]
     },
     "execution_count": 49,
     "metadata": {},
     "output_type": "execute_result"
    }
   ],
   "source": [
    "full.pickup_datetime[0:5]"
   ]
  },
  {
   "cell_type": "code",
   "execution_count": 50,
   "metadata": {},
   "outputs": [
    {
     "data": {
      "text/plain": [
       "0    2015-04-20 04:24:20\n",
       "1    2015-04-19 18:22:06\n",
       "2    2015-04-06 08:10:05\n",
       "3    2015-04-10 10:00:00\n",
       "4    2015-04-15 13:26:30\n",
       "Name: dropoff_datetime, dtype: object"
      ]
     },
     "execution_count": 50,
     "metadata": {},
     "output_type": "execute_result"
    }
   ],
   "source": [
    "full.dropoff_datetime[0:5]"
   ]
  },
  {
   "cell_type": "code",
   "execution_count": 51,
   "metadata": {
    "collapsed": true
   },
   "outputs": [],
   "source": [
    "# create trip time from pickup time & dropoff time\n",
    "\n",
    "format=\"%Y-%m-%d %H:%M:%S\"\n",
    "time=[]\n",
    "for i in range(200000):\n",
    "    pick=datetime.strptime(full.pickup_datetime[i],format)\n",
    "    drop=datetime.strptime(full.dropoff_datetime[i],format)\n",
    "    time.append(drop-pick)\n",
    "\n",
    "full['trip_duration']=pd.Series([round((i.total_seconds())/60,2) for i in time])    "
   ]
  },
  {
   "cell_type": "code",
   "execution_count": 52,
   "metadata": {},
   "outputs": [
    {
     "data": {
      "text/plain": [
       "0     5.92\n",
       "1     5.98\n",
       "2     5.55\n",
       "3    12.00\n",
       "4    13.70\n",
       "5    12.00\n",
       "6    34.77\n",
       "7     4.00\n",
       "8    14.00\n",
       "9    10.00\n",
       "Name: trip_duration, dtype: float64"
      ]
     },
     "execution_count": 52,
     "metadata": {},
     "output_type": "execute_result"
    }
   ],
   "source": [
    "full.trip_duration[0:10]"
   ]
  },
  {
   "cell_type": "code",
   "execution_count": 53,
   "metadata": {
    "collapsed": true
   },
   "outputs": [],
   "source": [
    "# create distance feature from latitude and longitude"
   ]
  },
  {
   "cell_type": "code",
   "execution_count": 54,
   "metadata": {
    "collapsed": true
   },
   "outputs": [],
   "source": [
    "R = 6371.0  #Earth radius(km)\n",
    "\n",
    "lat1 = []\n",
    "lon1 = []\n",
    "lat2 = []\n",
    "lon2 = []\n",
    "\n",
    "for i in range(200000):\n",
    "    lat1.append(radians(full['pickup_latitude'][i]))\n",
    "    lon1.append(radians(full['pickup_longitude'][i]))\n",
    "    lat2.append(radians(full['dropoff_latitude'][i]))\n",
    "    lon2.append(radians(full['dropoff_longitude'][i]))"
   ]
  },
  {
   "cell_type": "code",
   "execution_count": 55,
   "metadata": {
    "collapsed": true
   },
   "outputs": [],
   "source": [
    "dlon = np.array(lon2) - np.array(lon1)\n",
    "dlat = np.array(lat2) - np.array(lat1)"
   ]
  },
  {
   "cell_type": "code",
   "execution_count": 56,
   "metadata": {
    "collapsed": true
   },
   "outputs": [],
   "source": [
    "a=[sin(dlat[i] / 2)**2 + cos(lat1[i]) * cos(lat2[i]) * sin(dlon[i] / 2)**2 for i in range(200000)] \n",
    "B = [2 * atan2(sqrt(a[i]), sqrt(1 - a[i])) for i in range(200000)]"
   ]
  },
  {
   "cell_type": "code",
   "execution_count": 57,
   "metadata": {
    "collapsed": true
   },
   "outputs": [],
   "source": [
    "distance=[round(R*B[i],3) for i in range(200000)]\n",
    "full['distance']=pd.Series(distance)"
   ]
  },
  {
   "cell_type": "code",
   "execution_count": 58,
   "metadata": {
    "collapsed": true
   },
   "outputs": [],
   "source": [
    "# imputing tip_amount\n",
    "\n",
    "train=full.loc[full.tip_amount.notnull(),['payment_type','trip_duration','tolls_amount','rate_code','mta_tax']]\n",
    "test=full.loc[full.tip_amount.isnull(),['payment_type','trip_duration','tolls_amount','rate_code','mta_tax']]\n",
    "yr=full.loc[full.tip_amount.notnull(),'tip_amount']\n",
    "\n",
    "train=pd.get_dummies(train)\n",
    "test=pd.get_dummies(test)"
   ]
  },
  {
   "cell_type": "code",
   "execution_count": 59,
   "metadata": {
    "collapsed": true
   },
   "outputs": [],
   "source": [
    "model=KNR()\n",
    "model.fit(train,yr)\n",
    "full.loc[full.tip_amount.isnull(),'tip_amount']=model.predict(test)"
   ]
  },
  {
   "cell_type": "code",
   "execution_count": 60,
   "metadata": {},
   "outputs": [
    {
     "data": {
      "text/html": [
       "<div>\n",
       "<style>\n",
       "    .dataframe thead tr:only-child th {\n",
       "        text-align: right;\n",
       "    }\n",
       "\n",
       "    .dataframe thead th {\n",
       "        text-align: left;\n",
       "    }\n",
       "\n",
       "    .dataframe tbody tr th {\n",
       "        vertical-align: top;\n",
       "    }\n",
       "</style>\n",
       "<table border=\"1\" class=\"dataframe\">\n",
       "  <thead>\n",
       "    <tr style=\"text-align: right;\">\n",
       "      <th></th>\n",
       "      <th>Total</th>\n",
       "      <th>Percent</th>\n",
       "    </tr>\n",
       "  </thead>\n",
       "  <tbody>\n",
       "    <tr>\n",
       "      <th>distance</th>\n",
       "      <td>0</td>\n",
       "      <td>0.0</td>\n",
       "    </tr>\n",
       "    <tr>\n",
       "      <th>pickup_longitude</th>\n",
       "      <td>0</td>\n",
       "      <td>0.0</td>\n",
       "    </tr>\n",
       "    <tr>\n",
       "      <th>tolls_amount</th>\n",
       "      <td>0</td>\n",
       "      <td>0.0</td>\n",
       "    </tr>\n",
       "    <tr>\n",
       "      <th>tip_amount</th>\n",
       "      <td>0</td>\n",
       "      <td>0.0</td>\n",
       "    </tr>\n",
       "    <tr>\n",
       "      <th>mta_tax</th>\n",
       "      <td>0</td>\n",
       "      <td>0.0</td>\n",
       "    </tr>\n",
       "    <tr>\n",
       "      <th>pickup_datetime</th>\n",
       "      <td>0</td>\n",
       "      <td>0.0</td>\n",
       "    </tr>\n",
       "    <tr>\n",
       "      <th>dropoff_datetime</th>\n",
       "      <td>0</td>\n",
       "      <td>0.0</td>\n",
       "    </tr>\n",
       "    <tr>\n",
       "      <th>passenger_count</th>\n",
       "      <td>0</td>\n",
       "      <td>0.0</td>\n",
       "    </tr>\n",
       "    <tr>\n",
       "      <th>pickup_latitude</th>\n",
       "      <td>0</td>\n",
       "      <td>0.0</td>\n",
       "    </tr>\n",
       "    <tr>\n",
       "      <th>trip_duration</th>\n",
       "      <td>0</td>\n",
       "      <td>0.0</td>\n",
       "    </tr>\n",
       "    <tr>\n",
       "      <th>rate_code</th>\n",
       "      <td>0</td>\n",
       "      <td>0.0</td>\n",
       "    </tr>\n",
       "    <tr>\n",
       "      <th>store_and_fwd_flag</th>\n",
       "      <td>0</td>\n",
       "      <td>0.0</td>\n",
       "    </tr>\n",
       "    <tr>\n",
       "      <th>dropoff_longitude</th>\n",
       "      <td>0</td>\n",
       "      <td>0.0</td>\n",
       "    </tr>\n",
       "    <tr>\n",
       "      <th>dropoff_latitude</th>\n",
       "      <td>0</td>\n",
       "      <td>0.0</td>\n",
       "    </tr>\n",
       "    <tr>\n",
       "      <th>payment_type</th>\n",
       "      <td>0</td>\n",
       "      <td>0.0</td>\n",
       "    </tr>\n",
       "    <tr>\n",
       "      <th>surcharge</th>\n",
       "      <td>0</td>\n",
       "      <td>0.0</td>\n",
       "    </tr>\n",
       "    <tr>\n",
       "      <th>vendor_id</th>\n",
       "      <td>0</td>\n",
       "      <td>0.0</td>\n",
       "    </tr>\n",
       "  </tbody>\n",
       "</table>\n",
       "</div>"
      ],
      "text/plain": [
       "                    Total  Percent\n",
       "distance                0      0.0\n",
       "pickup_longitude        0      0.0\n",
       "tolls_amount            0      0.0\n",
       "tip_amount              0      0.0\n",
       "mta_tax                 0      0.0\n",
       "pickup_datetime         0      0.0\n",
       "dropoff_datetime        0      0.0\n",
       "passenger_count         0      0.0\n",
       "pickup_latitude         0      0.0\n",
       "trip_duration           0      0.0\n",
       "rate_code               0      0.0\n",
       "store_and_fwd_flag      0      0.0\n",
       "dropoff_longitude       0      0.0\n",
       "dropoff_latitude        0      0.0\n",
       "payment_type            0      0.0\n",
       "surcharge               0      0.0\n",
       "vendor_id               0      0.0"
      ]
     },
     "execution_count": 60,
     "metadata": {},
     "output_type": "execute_result"
    }
   ],
   "source": [
    "null_predict(full)"
   ]
  },
  {
   "cell_type": "code",
   "execution_count": 61,
   "metadata": {
    "collapsed": true
   },
   "outputs": [],
   "source": [
    "data=full.loc[0:99999]\n",
    "data1=full[100000:200000]"
   ]
  },
  {
   "cell_type": "code",
   "execution_count": 62,
   "metadata": {
    "collapsed": true
   },
   "outputs": [],
   "source": [
    "temp=pd.concat([data,y],axis=1)"
   ]
  },
  {
   "cell_type": "code",
   "execution_count": 63,
   "metadata": {},
   "outputs": [
    {
     "data": {
      "image/png": "[encoded data removed]",
      "text/plain": [
       "<matplotlib.figure.Figure at 0x11230470>"
      ]
     },
     "metadata": {},
     "output_type": "display_data"
    }
   ],
   "source": [
    "sns.jointplot(x='distance',y='fare_amount',data=temp)\n",
    "plt.show()"
   ]
  },
  {
   "cell_type": "markdown",
   "metadata": {},
   "source": [
    "# Feature Selection"
   ]
  },
  {
   "cell_type": "code",
   "execution_count": 64,
   "metadata": {
    "collapsed": true
   },
   "outputs": [],
   "source": [
    "data=data.drop(['pickup_datetime','dropoff_datetime','pickup_longitude','pickup_latitude','dropoff_longitude','dropoff_latitude'],axis=1)\n",
    "temp=data.copy()"
   ]
  },
  {
   "cell_type": "code",
   "execution_count": 65,
   "metadata": {},
   "outputs": [
    {
     "data": {
      "text/html": [
       "<div>\n",
       "<style>\n",
       "    .dataframe thead tr:only-child th {\n",
       "        text-align: right;\n",
       "    }\n",
       "\n",
       "    .dataframe thead th {\n",
       "        text-align: left;\n",
       "    }\n",
       "\n",
       "    .dataframe tbody tr th {\n",
       "        vertical-align: top;\n",
       "    }\n",
       "</style>\n",
       "<table border=\"1\" class=\"dataframe\">\n",
       "  <thead>\n",
       "    <tr style=\"text-align: right;\">\n",
       "      <th></th>\n",
       "      <th>vendor_id</th>\n",
       "      <th>tolls_amount</th>\n",
       "      <th>tip_amount</th>\n",
       "      <th>mta_tax</th>\n",
       "      <th>passenger_count</th>\n",
       "      <th>rate_code</th>\n",
       "      <th>store_and_fwd_flag</th>\n",
       "      <th>payment_type</th>\n",
       "      <th>surcharge</th>\n",
       "      <th>trip_duration</th>\n",
       "      <th>distance</th>\n",
       "    </tr>\n",
       "  </thead>\n",
       "  <tbody>\n",
       "    <tr>\n",
       "      <th>0</th>\n",
       "      <td>DST000401</td>\n",
       "      <td>0.0</td>\n",
       "      <td>1.4</td>\n",
       "      <td>0.5</td>\n",
       "      <td>1</td>\n",
       "      <td>1</td>\n",
       "      <td>N</td>\n",
       "      <td>CRD</td>\n",
       "      <td>0.5</td>\n",
       "      <td>5.92</td>\n",
       "      <td>1.311</td>\n",
       "    </tr>\n",
       "    <tr>\n",
       "      <th>1</th>\n",
       "      <td>DST000401</td>\n",
       "      <td>0.0</td>\n",
       "      <td>1.0</td>\n",
       "      <td>0.5</td>\n",
       "      <td>3</td>\n",
       "      <td>1</td>\n",
       "      <td>N</td>\n",
       "      <td>CRD</td>\n",
       "      <td>0.0</td>\n",
       "      <td>5.98</td>\n",
       "      <td>2.597</td>\n",
       "    </tr>\n",
       "    <tr>\n",
       "      <th>2</th>\n",
       "      <td>DST000401</td>\n",
       "      <td>0.0</td>\n",
       "      <td>0.0</td>\n",
       "      <td>0.5</td>\n",
       "      <td>2</td>\n",
       "      <td>1</td>\n",
       "      <td>N</td>\n",
       "      <td>CSH</td>\n",
       "      <td>0.0</td>\n",
       "      <td>5.55</td>\n",
       "      <td>1.535</td>\n",
       "    </tr>\n",
       "    <tr>\n",
       "      <th>3</th>\n",
       "      <td>DST000532</td>\n",
       "      <td>0.0</td>\n",
       "      <td>1.8</td>\n",
       "      <td>0.5</td>\n",
       "      <td>2</td>\n",
       "      <td>1</td>\n",
       "      <td>Missing</td>\n",
       "      <td>CRD</td>\n",
       "      <td>0.0</td>\n",
       "      <td>12.00</td>\n",
       "      <td>1.598</td>\n",
       "    </tr>\n",
       "    <tr>\n",
       "      <th>4</th>\n",
       "      <td>DST000401</td>\n",
       "      <td>0.0</td>\n",
       "      <td>0.0</td>\n",
       "      <td>0.5</td>\n",
       "      <td>1</td>\n",
       "      <td>1</td>\n",
       "      <td>N</td>\n",
       "      <td>CSH</td>\n",
       "      <td>0.0</td>\n",
       "      <td>13.70</td>\n",
       "      <td>1.628</td>\n",
       "    </tr>\n",
       "  </tbody>\n",
       "</table>\n",
       "</div>"
      ],
      "text/plain": [
       "   vendor_id  tolls_amount  tip_amount  mta_tax  passenger_count  rate_code  \\\n",
       "0  DST000401           0.0         1.4      0.5                1          1   \n",
       "1  DST000401           0.0         1.0      0.5                3          1   \n",
       "2  DST000401           0.0         0.0      0.5                2          1   \n",
       "3  DST000532           0.0         1.8      0.5                2          1   \n",
       "4  DST000401           0.0         0.0      0.5                1          1   \n",
       "\n",
       "  store_and_fwd_flag payment_type  surcharge  trip_duration  distance  \n",
       "0                  N          CRD        0.5           5.92     1.311  \n",
       "1                  N          CRD        0.0           5.98     2.597  \n",
       "2                  N          CSH        0.0           5.55     1.535  \n",
       "3            Missing          CRD        0.0          12.00     1.598  \n",
       "4                  N          CSH        0.0          13.70     1.628  "
      ]
     },
     "execution_count": 65,
     "metadata": {},
     "output_type": "execute_result"
    }
   ],
   "source": [
    "temp.head()"
   ]
  },
  {
   "cell_type": "code",
   "execution_count": 66,
   "metadata": {
    "collapsed": true
   },
   "outputs": [],
   "source": [
    "temp.loc[temp.vendor_id=='DST000401','vendor_id']=0\n",
    "temp.loc[temp.vendor_id=='DST000532','vendor_id']=1"
   ]
  },
  {
   "cell_type": "code",
   "execution_count": 67,
   "metadata": {
    "collapsed": true
   },
   "outputs": [],
   "source": [
    "temp.loc[temp.store_and_fwd_flag=='N','store_and_fwd_flag']=0\n",
    "temp.loc[temp.store_and_fwd_flag=='Y','store_and_fwd_flag']=1\n",
    "temp.loc[temp.store_and_fwd_flag=='Missing','store_and_fwd_flag']=2"
   ]
  },
  {
   "cell_type": "code",
   "execution_count": 68,
   "metadata": {
    "collapsed": true
   },
   "outputs": [],
   "source": [
    "temp.loc[temp.payment_type=='CRD','payment_type']=0\n",
    "temp.loc[temp.payment_type=='CSH','payment_type']=1\n",
    "temp.loc[temp.payment_type=='UNK','payment_type']=2\n",
    "temp.loc[temp.payment_type=='NOC','payment_type']=3\n",
    "temp.loc[temp.payment_type=='DIS','payment_type']=4"
   ]
  },
  {
   "cell_type": "code",
   "execution_count": 69,
   "metadata": {},
   "outputs": [
    {
     "data": {
      "text/html": [
       "<div>\n",
       "<style>\n",
       "    .dataframe thead tr:only-child th {\n",
       "        text-align: right;\n",
       "    }\n",
       "\n",
       "    .dataframe thead th {\n",
       "        text-align: left;\n",
       "    }\n",
       "\n",
       "    .dataframe tbody tr th {\n",
       "        vertical-align: top;\n",
       "    }\n",
       "</style>\n",
       "<table border=\"1\" class=\"dataframe\">\n",
       "  <thead>\n",
       "    <tr style=\"text-align: right;\">\n",
       "      <th></th>\n",
       "      <th>vendor_id</th>\n",
       "      <th>tolls_amount</th>\n",
       "      <th>tip_amount</th>\n",
       "      <th>mta_tax</th>\n",
       "      <th>passenger_count</th>\n",
       "      <th>rate_code</th>\n",
       "      <th>store_and_fwd_flag</th>\n",
       "      <th>payment_type</th>\n",
       "      <th>surcharge</th>\n",
       "      <th>trip_duration</th>\n",
       "      <th>distance</th>\n",
       "    </tr>\n",
       "  </thead>\n",
       "  <tbody>\n",
       "    <tr>\n",
       "      <th>0</th>\n",
       "      <td>0</td>\n",
       "      <td>0.0</td>\n",
       "      <td>1.4</td>\n",
       "      <td>0.5</td>\n",
       "      <td>1</td>\n",
       "      <td>1</td>\n",
       "      <td>0</td>\n",
       "      <td>0</td>\n",
       "      <td>0.5</td>\n",
       "      <td>5.92</td>\n",
       "      <td>1.311</td>\n",
       "    </tr>\n",
       "    <tr>\n",
       "      <th>1</th>\n",
       "      <td>0</td>\n",
       "      <td>0.0</td>\n",
       "      <td>1.0</td>\n",
       "      <td>0.5</td>\n",
       "      <td>3</td>\n",
       "      <td>1</td>\n",
       "      <td>0</td>\n",
       "      <td>0</td>\n",
       "      <td>0.0</td>\n",
       "      <td>5.98</td>\n",
       "      <td>2.597</td>\n",
       "    </tr>\n",
       "    <tr>\n",
       "      <th>2</th>\n",
       "      <td>0</td>\n",
       "      <td>0.0</td>\n",
       "      <td>0.0</td>\n",
       "      <td>0.5</td>\n",
       "      <td>2</td>\n",
       "      <td>1</td>\n",
       "      <td>0</td>\n",
       "      <td>1</td>\n",
       "      <td>0.0</td>\n",
       "      <td>5.55</td>\n",
       "      <td>1.535</td>\n",
       "    </tr>\n",
       "    <tr>\n",
       "      <th>3</th>\n",
       "      <td>1</td>\n",
       "      <td>0.0</td>\n",
       "      <td>1.8</td>\n",
       "      <td>0.5</td>\n",
       "      <td>2</td>\n",
       "      <td>1</td>\n",
       "      <td>2</td>\n",
       "      <td>0</td>\n",
       "      <td>0.0</td>\n",
       "      <td>12.00</td>\n",
       "      <td>1.598</td>\n",
       "    </tr>\n",
       "    <tr>\n",
       "      <th>4</th>\n",
       "      <td>0</td>\n",
       "      <td>0.0</td>\n",
       "      <td>0.0</td>\n",
       "      <td>0.5</td>\n",
       "      <td>1</td>\n",
       "      <td>1</td>\n",
       "      <td>0</td>\n",
       "      <td>1</td>\n",
       "      <td>0.0</td>\n",
       "      <td>13.70</td>\n",
       "      <td>1.628</td>\n",
       "    </tr>\n",
       "  </tbody>\n",
       "</table>\n",
       "</div>"
      ],
      "text/plain": [
       "  vendor_id  tolls_amount  tip_amount  mta_tax  passenger_count  rate_code  \\\n",
       "0         0           0.0         1.4      0.5                1          1   \n",
       "1         0           0.0         1.0      0.5                3          1   \n",
       "2         0           0.0         0.0      0.5                2          1   \n",
       "3         1           0.0         1.8      0.5                2          1   \n",
       "4         0           0.0         0.0      0.5                1          1   \n",
       "\n",
       "  store_and_fwd_flag payment_type  surcharge  trip_duration  distance  \n",
       "0                  0            0        0.5           5.92     1.311  \n",
       "1                  0            0        0.0           5.98     2.597  \n",
       "2                  0            1        0.0           5.55     1.535  \n",
       "3                  2            0        0.0          12.00     1.598  \n",
       "4                  0            1        0.0          13.70     1.628  "
      ]
     },
     "execution_count": 69,
     "metadata": {},
     "output_type": "execute_result"
    }
   ],
   "source": [
    "temp.head()"
   ]
  },
  {
   "cell_type": "code",
   "execution_count": 70,
   "metadata": {
    "collapsed": true
   },
   "outputs": [],
   "source": [
    "from sklearn.feature_selection import SelectKBest\n",
    "from sklearn.feature_selection import f_classif"
   ]
  },
  {
   "cell_type": "code",
   "execution_count": 71,
   "metadata": {
    "collapsed": true
   },
   "outputs": [],
   "source": [
    "#Create an SelectKBest object to select features with sex best ANOVA F-Values\n",
    "\n",
    "fvalue_selector = SelectKBest(f_classif, k=6)"
   ]
  },
  {
   "cell_type": "code",
   "execution_count": 72,
   "metadata": {
    "collapsed": true
   },
   "outputs": [],
   "source": [
    "# Apply the SelectKBest object to the features and target\n",
    "\n",
    "N_kbest = fvalue_selector.fit_transform(temp,y)"
   ]
  },
  {
   "cell_type": "code",
   "execution_count": 73,
   "metadata": {},
   "outputs": [
    {
     "data": {
      "text/html": [
       "<div>\n",
       "<style>\n",
       "    .dataframe thead tr:only-child th {\n",
       "        text-align: right;\n",
       "    }\n",
       "\n",
       "    .dataframe thead th {\n",
       "        text-align: left;\n",
       "    }\n",
       "\n",
       "    .dataframe tbody tr th {\n",
       "        vertical-align: top;\n",
       "    }\n",
       "</style>\n",
       "<table border=\"1\" class=\"dataframe\">\n",
       "  <thead>\n",
       "    <tr style=\"text-align: right;\">\n",
       "      <th></th>\n",
       "      <th>vendor_id</th>\n",
       "      <th>tolls_amount</th>\n",
       "      <th>tip_amount</th>\n",
       "      <th>mta_tax</th>\n",
       "      <th>passenger_count</th>\n",
       "      <th>rate_code</th>\n",
       "      <th>store_and_fwd_flag</th>\n",
       "      <th>payment_type</th>\n",
       "      <th>surcharge</th>\n",
       "      <th>trip_duration</th>\n",
       "      <th>distance</th>\n",
       "    </tr>\n",
       "  </thead>\n",
       "  <tbody>\n",
       "    <tr>\n",
       "      <th>0</th>\n",
       "      <td>0</td>\n",
       "      <td>0.0</td>\n",
       "      <td>1.40</td>\n",
       "      <td>0.5</td>\n",
       "      <td>1</td>\n",
       "      <td>1</td>\n",
       "      <td>0</td>\n",
       "      <td>0</td>\n",
       "      <td>0.5</td>\n",
       "      <td>5.92</td>\n",
       "      <td>1.311</td>\n",
       "    </tr>\n",
       "    <tr>\n",
       "      <th>1</th>\n",
       "      <td>0</td>\n",
       "      <td>0.0</td>\n",
       "      <td>1.00</td>\n",
       "      <td>0.5</td>\n",
       "      <td>3</td>\n",
       "      <td>1</td>\n",
       "      <td>0</td>\n",
       "      <td>0</td>\n",
       "      <td>0.0</td>\n",
       "      <td>5.98</td>\n",
       "      <td>2.597</td>\n",
       "    </tr>\n",
       "    <tr>\n",
       "      <th>2</th>\n",
       "      <td>0</td>\n",
       "      <td>0.0</td>\n",
       "      <td>0.00</td>\n",
       "      <td>0.5</td>\n",
       "      <td>2</td>\n",
       "      <td>1</td>\n",
       "      <td>0</td>\n",
       "      <td>1</td>\n",
       "      <td>0.0</td>\n",
       "      <td>5.55</td>\n",
       "      <td>1.535</td>\n",
       "    </tr>\n",
       "    <tr>\n",
       "      <th>3</th>\n",
       "      <td>1</td>\n",
       "      <td>0.0</td>\n",
       "      <td>1.80</td>\n",
       "      <td>0.5</td>\n",
       "      <td>2</td>\n",
       "      <td>1</td>\n",
       "      <td>2</td>\n",
       "      <td>0</td>\n",
       "      <td>0.0</td>\n",
       "      <td>12.00</td>\n",
       "      <td>1.598</td>\n",
       "    </tr>\n",
       "    <tr>\n",
       "      <th>4</th>\n",
       "      <td>0</td>\n",
       "      <td>0.0</td>\n",
       "      <td>0.00</td>\n",
       "      <td>0.5</td>\n",
       "      <td>1</td>\n",
       "      <td>1</td>\n",
       "      <td>0</td>\n",
       "      <td>1</td>\n",
       "      <td>0.0</td>\n",
       "      <td>13.70</td>\n",
       "      <td>1.628</td>\n",
       "    </tr>\n",
       "    <tr>\n",
       "      <th>5</th>\n",
       "      <td>0</td>\n",
       "      <td>0.0</td>\n",
       "      <td>2.40</td>\n",
       "      <td>0.5</td>\n",
       "      <td>1</td>\n",
       "      <td>1</td>\n",
       "      <td>0</td>\n",
       "      <td>0</td>\n",
       "      <td>0.5</td>\n",
       "      <td>12.00</td>\n",
       "      <td>3.058</td>\n",
       "    </tr>\n",
       "    <tr>\n",
       "      <th>6</th>\n",
       "      <td>0</td>\n",
       "      <td>0.0</td>\n",
       "      <td>5.99</td>\n",
       "      <td>0.5</td>\n",
       "      <td>1</td>\n",
       "      <td>1</td>\n",
       "      <td>0</td>\n",
       "      <td>0</td>\n",
       "      <td>0.5</td>\n",
       "      <td>34.77</td>\n",
       "      <td>7.076</td>\n",
       "    </tr>\n",
       "    <tr>\n",
       "      <th>7</th>\n",
       "      <td>1</td>\n",
       "      <td>0.0</td>\n",
       "      <td>0.00</td>\n",
       "      <td>0.5</td>\n",
       "      <td>1</td>\n",
       "      <td>1</td>\n",
       "      <td>2</td>\n",
       "      <td>1</td>\n",
       "      <td>0.5</td>\n",
       "      <td>4.00</td>\n",
       "      <td>10.035</td>\n",
       "    </tr>\n",
       "    <tr>\n",
       "      <th>8</th>\n",
       "      <td>1</td>\n",
       "      <td>0.0</td>\n",
       "      <td>3.20</td>\n",
       "      <td>0.5</td>\n",
       "      <td>5</td>\n",
       "      <td>1</td>\n",
       "      <td>2</td>\n",
       "      <td>0</td>\n",
       "      <td>0.5</td>\n",
       "      <td>14.00</td>\n",
       "      <td>6.051</td>\n",
       "    </tr>\n",
       "    <tr>\n",
       "      <th>9</th>\n",
       "      <td>1</td>\n",
       "      <td>0.0</td>\n",
       "      <td>0.00</td>\n",
       "      <td>0.5</td>\n",
       "      <td>2</td>\n",
       "      <td>1</td>\n",
       "      <td>2</td>\n",
       "      <td>1</td>\n",
       "      <td>0.0</td>\n",
       "      <td>10.00</td>\n",
       "      <td>1.275</td>\n",
       "    </tr>\n",
       "  </tbody>\n",
       "</table>\n",
       "</div>"
      ],
      "text/plain": [
       "  vendor_id  tolls_amount  tip_amount  mta_tax  passenger_count  rate_code  \\\n",
       "0         0           0.0        1.40      0.5                1          1   \n",
       "1         0           0.0        1.00      0.5                3          1   \n",
       "2         0           0.0        0.00      0.5                2          1   \n",
       "3         1           0.0        1.80      0.5                2          1   \n",
       "4         0           0.0        0.00      0.5                1          1   \n",
       "5         0           0.0        2.40      0.5                1          1   \n",
       "6         0           0.0        5.99      0.5                1          1   \n",
       "7         1           0.0        0.00      0.5                1          1   \n",
       "8         1           0.0        3.20      0.5                5          1   \n",
       "9         1           0.0        0.00      0.5                2          1   \n",
       "\n",
       "  store_and_fwd_flag payment_type  surcharge  trip_duration  distance  \n",
       "0                  0            0        0.5           5.92     1.311  \n",
       "1                  0            0        0.0           5.98     2.597  \n",
       "2                  0            1        0.0           5.55     1.535  \n",
       "3                  2            0        0.0          12.00     1.598  \n",
       "4                  0            1        0.0          13.70     1.628  \n",
       "5                  0            0        0.5          12.00     3.058  \n",
       "6                  0            0        0.5          34.77     7.076  \n",
       "7                  2            1        0.5           4.00    10.035  \n",
       "8                  2            0        0.5          14.00     6.051  \n",
       "9                  2            1        0.0          10.00     1.275  "
      ]
     },
     "execution_count": 73,
     "metadata": {},
     "output_type": "execute_result"
    }
   ],
   "source": [
    "temp.head(10)"
   ]
  },
  {
   "cell_type": "code",
   "execution_count": 74,
   "metadata": {},
   "outputs": [
    {
     "data": {
      "text/plain": [
       "array([[  0.   ,   1.4  ,   0.5  ,   1.   ,   5.92 ,   1.311],\n",
       "       [  0.   ,   1.   ,   0.5  ,   1.   ,   5.98 ,   2.597],\n",
       "       [  0.   ,   0.   ,   0.5  ,   1.   ,   5.55 ,   1.535],\n",
       "       [  0.   ,   1.8  ,   0.5  ,   1.   ,  12.   ,   1.598],\n",
       "       [  0.   ,   0.   ,   0.5  ,   1.   ,  13.7  ,   1.628],\n",
       "       [  0.   ,   2.4  ,   0.5  ,   1.   ,  12.   ,   3.058],\n",
       "       [  0.   ,   5.99 ,   0.5  ,   1.   ,  34.77 ,   7.076],\n",
       "       [  0.   ,   0.   ,   0.5  ,   1.   ,   4.   ,  10.035],\n",
       "       [  0.   ,   3.2  ,   0.5  ,   1.   ,  14.   ,   6.051],\n",
       "       [  0.   ,   0.   ,   0.5  ,   1.   ,  10.   ,   1.275]])"
      ]
     },
     "execution_count": 74,
     "metadata": {},
     "output_type": "execute_result"
    }
   ],
   "source": [
    "N_kbest[0:10]"
   ]
  },
  {
   "cell_type": "markdown",
   "metadata": {},
   "source": [
    "hence we select  'tolls_amount' , 'tip_amount' , 'mta_tax' , 'rate_code' , 'distance',  'trip_duration'"
   ]
  },
  {
   "cell_type": "markdown",
   "metadata": {},
   "source": [
    "# Building Model"
   ]
  },
  {
   "cell_type": "code",
   "execution_count": 75,
   "metadata": {
    "collapsed": true
   },
   "outputs": [],
   "source": [
    "data=data[['distance','trip_duration','rate_code','tip_amount','tolls_amount','mta_tax']]\n",
    "data1=data1[['distance','trip_duration','rate_code','tip_amount','tolls_amount','mta_tax']]"
   ]
  },
  {
   "cell_type": "code",
   "execution_count": 76,
   "metadata": {
    "collapsed": true
   },
   "outputs": [],
   "source": [
    "train=pd.get_dummies(data)\n",
    "test=pd.get_dummies(data1)"
   ]
  },
  {
   "cell_type": "code",
   "execution_count": 77,
   "metadata": {},
   "outputs": [
    {
     "data": {
      "text/plain": [
       "Index([u'distance', u'trip_duration', u'rate_code', u'tip_amount',\n",
       "       u'tolls_amount', u'mta_tax'],\n",
       "      dtype='object')"
      ]
     },
     "execution_count": 77,
     "metadata": {},
     "output_type": "execute_result"
    }
   ],
   "source": [
    "train.columns"
   ]
  },
  {
   "cell_type": "code",
   "execution_count": 78,
   "metadata": {
    "collapsed": true
   },
   "outputs": [],
   "source": [
    "# del train['payment_type_UNK']"
   ]
  },
  {
   "cell_type": "code",
   "execution_count": 79,
   "metadata": {
    "collapsed": true
   },
   "outputs": [],
   "source": [
    "train_x,test_x,train_y,test_y=train_test_split(train,y,test_size=.3,random_state=42)"
   ]
  },
  {
   "cell_type": "code",
   "execution_count": 80,
   "metadata": {},
   "outputs": [
    {
     "data": {
      "text/plain": [
       "RandomForestRegressor(bootstrap=True, criterion='mse', max_depth=None,\n",
       "           max_features='auto', max_leaf_nodes=None,\n",
       "           min_impurity_decrease=0.0, min_impurity_split=None,\n",
       "           min_samples_leaf=1, min_samples_split=2,\n",
       "           min_weight_fraction_leaf=0.0, n_estimators=10, n_jobs=1,\n",
       "           oob_score=False, random_state=42, verbose=0, warm_start=False)"
      ]
     },
     "execution_count": 80,
     "metadata": {},
     "output_type": "execute_result"
    }
   ],
   "source": [
    "model=RandomForestRegressor(random_state=42)\n",
    "model.fit(train_x,train_y)"
   ]
  },
  {
   "cell_type": "code",
   "execution_count": 81,
   "metadata": {},
   "outputs": [
    {
     "data": {
      "text/plain": [
       "0.98944367201175398"
      ]
     },
     "execution_count": 81,
     "metadata": {},
     "output_type": "execute_result"
    }
   ],
   "source": [
    "model.score(train_x,train_y)"
   ]
  },
  {
   "cell_type": "code",
   "execution_count": 82,
   "metadata": {},
   "outputs": [
    {
     "data": {
      "text/plain": [
       "0.94702383456160699"
      ]
     },
     "execution_count": 82,
     "metadata": {},
     "output_type": "execute_result"
    }
   ],
   "source": [
    "model.score(test_x,test_y)"
   ]
  },
  {
   "cell_type": "code",
   "execution_count": 83,
   "metadata": {},
   "outputs": [
    {
     "name": "stdout",
     "output_type": "stream",
     "text": [
      "Feature ranking:\n",
      "1. feature 0 (0.422726)\n",
      "2. feature 1 (0.297899)\n",
      "3. feature 2 (0.162610)\n",
      "4. feature 3 (0.094810)\n",
      "5. feature 4 (0.020162)\n",
      "6. feature 5 (0.001793)\n"
     ]
    },
    {
     "data": {
      "image/png": "[encoded data removed]",
      "text/plain": [
       "<matplotlib.figure.Figure at 0x1cca1a20>"
      ]
     },
     "metadata": {},
     "output_type": "display_data"
    }
   ],
   "source": [
    "importances = model.feature_importances_\n",
    "std = np.std(importances)\n",
    "indices = np.argsort(importances)[::-1]\n",
    "\n",
    "# Print the feature ranking\n",
    "print(\"Feature ranking:\")\n",
    "\n",
    "for f in range(train.shape[1]):\n",
    "    print(\"%d. feature %d (%f)\" % (f + 1, indices[f], importances[indices[f]]))\n",
    "\n",
    "# Plot the feature importances\n",
    "\n",
    "plt.title(\"Feature importances\")\n",
    "plt.bar(range(train.shape[1]), importances[indices],\n",
    "       color=\"r\", align=\"center\")\n",
    "plt.xticks(range(train.shape[1]), indices)\n",
    "plt.xticks()\n",
    "plt.xlim([-1, train.shape[1]])\n",
    "plt.show()"
   ]
  },
  {
   "cell_type": "code",
   "execution_count": 84,
   "metadata": {},
   "outputs": [
    {
     "data": {
      "text/plain": [
       "GradientBoostingRegressor(alpha=0.9, criterion='friedman_mse', init=None,\n",
       "             learning_rate=0.1, loss='ls', max_depth=3, max_features=None,\n",
       "             max_leaf_nodes=None, min_impurity_decrease=0.0,\n",
       "             min_impurity_split=None, min_samples_leaf=1,\n",
       "             min_samples_split=2, min_weight_fraction_leaf=0.0,\n",
       "             n_estimators=100, presort='auto', random_state=42,\n",
       "             subsample=1.0, verbose=0, warm_start=False)"
      ]
     },
     "execution_count": 84,
     "metadata": {},
     "output_type": "execute_result"
    }
   ],
   "source": [
    "##..Make model on GBM\n",
    "\n",
    "model=GradientBoostingRegressor(random_state=42)\n",
    "model.fit(train_x,train_y)"
   ]
  },
  {
   "cell_type": "code",
   "execution_count": 85,
   "metadata": {},
   "outputs": [
    {
     "data": {
      "text/plain": [
       "0.95960008535364572"
      ]
     },
     "execution_count": 85,
     "metadata": {},
     "output_type": "execute_result"
    }
   ],
   "source": [
    "model.score(train_x,train_y)"
   ]
  },
  {
   "cell_type": "code",
   "execution_count": 86,
   "metadata": {},
   "outputs": [
    {
     "data": {
      "text/plain": [
       "0.94612395007515326"
      ]
     },
     "execution_count": 86,
     "metadata": {},
     "output_type": "execute_result"
    }
   ],
   "source": [
    "model.score(test_x,test_y)"
   ]
  },
  {
   "cell_type": "markdown",
   "metadata": {},
   "source": [
    "# Cross Validation"
   ]
  },
  {
   "cell_type": "code",
   "execution_count": 94,
   "metadata": {},
   "outputs": [
    {
     "name": "stdout",
     "output_type": "stream",
     "text": [
      "Fitting 5 folds for each of 16 candidates, totalling 80 fits\n"
     ]
    },
    {
     "name": "stderr",
     "output_type": "stream",
     "text": [
      "[Parallel(n_jobs=4)]: Done  42 tasks      | elapsed:  4.3min\n",
      "[Parallel(n_jobs=4)]: Done  80 out of  80 | elapsed:  9.3min finished\n"
     ]
    }
   ],
   "source": [
    "GBM=GradientBoostingRegressor(random_state=42)\n",
    "gb_param_grid = {'n_estimators' : [100,500],\n",
    "                'learning_rate': [0.1, 0.01],\n",
    "                 'max_depth': [3,8],\n",
    "                'max_features': [0.3, 0.1] \n",
    "                }\n",
    "gsGBM = GridSearchCV(GBM,param_grid = gb_param_grid, cv=5, scoring=\"mean_squared_error\", n_jobs= 4, verbose = 1)\n",
    "gsGBM.fit(train_x,train_y)\n",
    "\n",
    "GBM_best = gsGBM.best_estimator_"
   ]
  },
  {
   "cell_type": "code",
   "execution_count": 95,
   "metadata": {},
   "outputs": [
    {
     "data": {
      "text/plain": [
       "0.97651506972891755"
      ]
     },
     "execution_count": 95,
     "metadata": {},
     "output_type": "execute_result"
    }
   ],
   "source": [
    "GBM_best.score(train_x,train_y)"
   ]
  },
  {
   "cell_type": "code",
   "execution_count": 96,
   "metadata": {},
   "outputs": [
    {
     "data": {
      "text/plain": [
       "0.95026492969073195"
      ]
     },
     "execution_count": 96,
     "metadata": {},
     "output_type": "execute_result"
    }
   ],
   "source": [
    "GBM_best.score(test_x,test_y)"
   ]
  },
  {
   "cell_type": "code",
   "execution_count": 97,
   "metadata": {
    "collapsed": true
   },
   "outputs": [],
   "source": [
    "output=GBM_best.predict(test)"
   ]
  },
  {
   "cell_type": "code",
   "execution_count": 98,
   "metadata": {},
   "outputs": [
    {
     "data": {
      "text/plain": [
       "array([  5.2168874 ,   7.21507061,  11.03245807, ...,  55.42942459,\n",
       "         9.4776487 ,   5.8137289 ])"
      ]
     },
     "execution_count": 98,
     "metadata": {},
     "output_type": "execute_result"
    }
   ],
   "source": [
    "output"
   ]
  }
 ],
 "metadata": {
  "kernelspec": {
   "display_name": "Python 2",
   "language": "python",
   "name": "python2"
  },
  "language_info": {
   "codemirror_mode": {
    "name": "ipython",
    "version": 2
   },
   "file_extension": ".py",
   "mimetype": "text/x-python",
   "name": "python",
   "nbconvert_exporter": "python",
   "pygments_lexer": "ipython2",
   "version": "2.7.13"
  }
 },
 "nbformat": 4,
 "nbformat_minor": 2
}
